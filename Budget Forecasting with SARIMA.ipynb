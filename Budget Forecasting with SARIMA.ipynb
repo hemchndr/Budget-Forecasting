{
 "cells": [
  {
   "cell_type": "code",
   "execution_count": 1,
   "id": "8c52c57f",
   "metadata": {},
   "outputs": [],
   "source": [
    "import pandas as pd\n",
    "import numpy as np\n",
    "import matplotlib.pyplot as plt\n",
    "import seaborn as sns\n",
    "from statsmodels.tsa.seasonal import seasonal_decompose\n",
    "from statsmodels.tsa.statespace.sarimax import SARIMAX\n",
    "from sklearn.metrics import mean_squared_error"
   ]
  },
  {
   "cell_type": "markdown",
   "id": "496da25e",
   "metadata": {},
   "source": [
    "## STEP 1 : Loading the Dataset"
   ]
  },
  {
   "cell_type": "code",
   "execution_count": 2,
   "id": "63b7fc04",
   "metadata": {},
   "outputs": [],
   "source": [
    "# Load the dataset\n",
    "df = pd.read_csv(r\"C:\\Users\\hemch\\Downloads\\Position Based Resumes\\Finance Resume\\Apple income statement\\apple_income_statement.csv\")"
   ]
  },
  {
   "cell_type": "code",
   "execution_count": 3,
   "id": "9ba85502",
   "metadata": {},
   "outputs": [
    {
     "data": {
      "text/html": [
       "<div>\n",
       "<style scoped>\n",
       "    .dataframe tbody tr th:only-of-type {\n",
       "        vertical-align: middle;\n",
       "    }\n",
       "\n",
       "    .dataframe tbody tr th {\n",
       "        vertical-align: top;\n",
       "    }\n",
       "\n",
       "    .dataframe thead th {\n",
       "        text-align: right;\n",
       "    }\n",
       "</style>\n",
       "<table border=\"1\" class=\"dataframe\">\n",
       "  <thead>\n",
       "    <tr style=\"text-align: right;\">\n",
       "      <th></th>\n",
       "      <th>Unnamed: 0</th>\n",
       "      <th>2012-12-31</th>\n",
       "      <th>2013-12-31</th>\n",
       "      <th>2014-12-31</th>\n",
       "      <th>2015-12-31</th>\n",
       "      <th>2016-12-31</th>\n",
       "      <th>2017-12-31</th>\n",
       "      <th>2018-12-31</th>\n",
       "      <th>2019-12-31</th>\n",
       "      <th>2020-12-31</th>\n",
       "      <th>2021-12-31</th>\n",
       "    </tr>\n",
       "  </thead>\n",
       "  <tbody>\n",
       "    <tr>\n",
       "      <th>0</th>\n",
       "      <td>Cash</td>\n",
       "      <td>0</td>\n",
       "      <td>0</td>\n",
       "      <td>0</td>\n",
       "      <td>0</td>\n",
       "      <td>0</td>\n",
       "      <td>0</td>\n",
       "      <td>0</td>\n",
       "      <td>0</td>\n",
       "      <td>0</td>\n",
       "      <td>0</td>\n",
       "    </tr>\n",
       "    <tr>\n",
       "      <th>1</th>\n",
       "      <td>Cash &amp; Equivalents</td>\n",
       "      <td>5490</td>\n",
       "      <td>6081</td>\n",
       "      <td>7341</td>\n",
       "      <td>6460</td>\n",
       "      <td>7168</td>\n",
       "      <td>8261</td>\n",
       "      <td>7857</td>\n",
       "      <td>8284</td>\n",
       "      <td>9352</td>\n",
       "      <td>9254</td>\n",
       "    </tr>\n",
       "    <tr>\n",
       "      <th>2</th>\n",
       "      <td>Short Term Investments</td>\n",
       "      <td>29</td>\n",
       "      <td>14</td>\n",
       "      <td>0</td>\n",
       "      <td>0</td>\n",
       "      <td>0</td>\n",
       "      <td>0</td>\n",
       "      <td>1</td>\n",
       "      <td>0</td>\n",
       "      <td>0</td>\n",
       "      <td>0</td>\n",
       "    </tr>\n",
       "    <tr>\n",
       "      <th>3</th>\n",
       "      <td>Cash and Short Term Investments</td>\n",
       "      <td>5519</td>\n",
       "      <td>6095</td>\n",
       "      <td>7341</td>\n",
       "      <td>6460</td>\n",
       "      <td>7168</td>\n",
       "      <td>8261</td>\n",
       "      <td>7858</td>\n",
       "      <td>8284</td>\n",
       "      <td>9352</td>\n",
       "      <td>9254</td>\n",
       "    </tr>\n",
       "    <tr>\n",
       "      <th>4</th>\n",
       "      <td>Accounts Receivable - Trade, Net</td>\n",
       "      <td>8831</td>\n",
       "      <td>8326</td>\n",
       "      <td>7699</td>\n",
       "      <td>6677</td>\n",
       "      <td>5919</td>\n",
       "      <td>7376</td>\n",
       "      <td>8767</td>\n",
       "      <td>8484</td>\n",
       "      <td>7317</td>\n",
       "      <td>8477</td>\n",
       "    </tr>\n",
       "  </tbody>\n",
       "</table>\n",
       "</div>"
      ],
      "text/plain": [
       "                         Unnamed: 0  2012-12-31  2013-12-31  2014-12-31  \\\n",
       "0                              Cash           0           0           0   \n",
       "1                Cash & Equivalents        5490        6081        7341   \n",
       "2            Short Term Investments          29          14           0   \n",
       "3   Cash and Short Term Investments        5519        6095        7341   \n",
       "4  Accounts Receivable - Trade, Net        8831        8326        7699   \n",
       "\n",
       "   2015-12-31  2016-12-31  2017-12-31  2018-12-31  2019-12-31  2020-12-31  \\\n",
       "0           0           0           0           0           0           0   \n",
       "1        6460        7168        8261        7857        8284        9352   \n",
       "2           0           0           0           1           0           0   \n",
       "3        6460        7168        8261        7858        8284        9352   \n",
       "4        6677        5919        7376        8767        8484        7317   \n",
       "\n",
       "   2021-12-31  \n",
       "0           0  \n",
       "1        9254  \n",
       "2           0  \n",
       "3        9254  \n",
       "4        8477  "
      ]
     },
     "execution_count": 3,
     "metadata": {},
     "output_type": "execute_result"
    }
   ],
   "source": [
    "df.head()"
   ]
  },
  {
   "cell_type": "markdown",
   "id": "48447b14",
   "metadata": {},
   "source": [
    "## STEP 2 : Processing the data "
   ]
  },
  {
   "cell_type": "code",
   "execution_count": 4,
   "id": "33fc849d",
   "metadata": {},
   "outputs": [],
   "source": [
    "# Rename columns for better understanding\n",
    "df.columns = ['Metric', '2012', '2013', '2014', '2015', '2016', '2017', '2018', '2019', '2020', '2021']"
   ]
  },
  {
   "cell_type": "code",
   "execution_count": 5,
   "id": "2c168a14",
   "metadata": {},
   "outputs": [],
   "source": [
    "# Convert the data from wide to long format\n",
    "df_long = pd.melt(df, id_vars=['Metric'], var_name='Year', value_name='Value')"
   ]
  },
  {
   "cell_type": "code",
   "execution_count": 6,
   "id": "da51f8cd",
   "metadata": {},
   "outputs": [],
   "source": [
    "# Convert 'Year' to datetime format\n",
    "df_long['Year'] = pd.to_datetime(df_long['Year'], format='%Y')"
   ]
  },
  {
   "cell_type": "code",
   "execution_count": 7,
   "id": "b4c251cc",
   "metadata": {},
   "outputs": [],
   "source": [
    "# Filter data for 'Cash & Equivalents'\n",
    "cash_equivalents = df_long[df_long['Metric'] == 'Cash & Equivalents']"
   ]
  },
  {
   "cell_type": "code",
   "execution_count": 8,
   "id": "49dc2be1",
   "metadata": {},
   "outputs": [],
   "source": [
    "# Set 'Year' as the index\n",
    "cash_equivalents.set_index('Year', inplace=True)"
   ]
  },
  {
   "cell_type": "code",
   "execution_count": 9,
   "id": "13c68f65",
   "metadata": {},
   "outputs": [
    {
     "name": "stderr",
     "output_type": "stream",
     "text": [
      "C:\\Users\\hemch\\AppData\\Local\\Temp\\ipykernel_11180\\1423278998.py:1: SettingWithCopyWarning: \n",
      "A value is trying to be set on a copy of a slice from a DataFrame\n",
      "\n",
      "See the caveats in the documentation: https://pandas.pydata.org/pandas-docs/stable/user_guide/indexing.html#returning-a-view-versus-a-copy\n",
      "  cash_equivalents.dropna(inplace=True)\n"
     ]
    }
   ],
   "source": [
    "cash_equivalents.dropna(inplace=True)"
   ]
  },
  {
   "cell_type": "markdown",
   "id": "8b0a0e77",
   "metadata": {},
   "source": [
    "## Step 3: Exploratory Data Analysis (EDA)"
   ]
  },
  {
   "cell_type": "code",
   "execution_count": 10,
   "id": "7d517f02",
   "metadata": {},
   "outputs": [
    {
     "data": {
      "text/html": [
       "<div>\n",
       "<style scoped>\n",
       "    .dataframe tbody tr th:only-of-type {\n",
       "        vertical-align: middle;\n",
       "    }\n",
       "\n",
       "    .dataframe tbody tr th {\n",
       "        vertical-align: top;\n",
       "    }\n",
       "\n",
       "    .dataframe thead th {\n",
       "        text-align: right;\n",
       "    }\n",
       "</style>\n",
       "<table border=\"1\" class=\"dataframe\">\n",
       "  <thead>\n",
       "    <tr style=\"text-align: right;\">\n",
       "      <th></th>\n",
       "      <th>Value</th>\n",
       "    </tr>\n",
       "  </thead>\n",
       "  <tbody>\n",
       "    <tr>\n",
       "      <th>count</th>\n",
       "      <td>10.000000</td>\n",
       "    </tr>\n",
       "    <tr>\n",
       "      <th>mean</th>\n",
       "      <td>7554.800000</td>\n",
       "    </tr>\n",
       "    <tr>\n",
       "      <th>std</th>\n",
       "      <td>1293.933778</td>\n",
       "    </tr>\n",
       "    <tr>\n",
       "      <th>min</th>\n",
       "      <td>5490.000000</td>\n",
       "    </tr>\n",
       "    <tr>\n",
       "      <th>25%</th>\n",
       "      <td>6637.000000</td>\n",
       "    </tr>\n",
       "    <tr>\n",
       "      <th>50%</th>\n",
       "      <td>7599.000000</td>\n",
       "    </tr>\n",
       "    <tr>\n",
       "      <th>75%</th>\n",
       "      <td>8278.250000</td>\n",
       "    </tr>\n",
       "    <tr>\n",
       "      <th>max</th>\n",
       "      <td>9352.000000</td>\n",
       "    </tr>\n",
       "  </tbody>\n",
       "</table>\n",
       "</div>"
      ],
      "text/plain": [
       "             Value\n",
       "count    10.000000\n",
       "mean   7554.800000\n",
       "std    1293.933778\n",
       "min    5490.000000\n",
       "25%    6637.000000\n",
       "50%    7599.000000\n",
       "75%    8278.250000\n",
       "max    9352.000000"
      ]
     },
     "execution_count": 10,
     "metadata": {},
     "output_type": "execute_result"
    }
   ],
   "source": [
    "# Statistical summary\n",
    "cash_equivalents.describe()"
   ]
  },
  {
   "cell_type": "code",
   "execution_count": 11,
   "id": "5d85c9ba",
   "metadata": {},
   "outputs": [
    {
     "name": "stderr",
     "output_type": "stream",
     "text": [
      "C:\\Users\\hemch\\AppData\\Local\\Temp\\ipykernel_11180\\2942900553.py:2: SettingWithCopyWarning: \n",
      "A value is trying to be set on a copy of a slice from a DataFrame.\n",
      "Try using .loc[row_indexer,col_indexer] = value instead\n",
      "\n",
      "See the caveats in the documentation: https://pandas.pydata.org/pandas-docs/stable/user_guide/indexing.html#returning-a-view-versus-a-copy\n",
      "  cash_equivalents['MA30'] = cash_equivalents['Value'].rolling(window=30).mean()\n",
      "C:\\Users\\hemch\\AppData\\Local\\Temp\\ipykernel_11180\\2942900553.py:3: SettingWithCopyWarning: \n",
      "A value is trying to be set on a copy of a slice from a DataFrame.\n",
      "Try using .loc[row_indexer,col_indexer] = value instead\n",
      "\n",
      "See the caveats in the documentation: https://pandas.pydata.org/pandas-docs/stable/user_guide/indexing.html#returning-a-view-versus-a-copy\n",
      "  cash_equivalents['MA60'] = cash_equivalents['Value'].rolling(window=60).mean()\n"
     ]
    }
   ],
   "source": [
    "# Calculate moving averages\n",
    "cash_equivalents['MA30'] = cash_equivalents['Value'].rolling(window=30).mean()\n",
    "cash_equivalents['MA60'] = cash_equivalents['Value'].rolling(window=60).mean()"
   ]
  },
  {
   "cell_type": "code",
   "execution_count": 12,
   "id": "8fdd6fa7",
   "metadata": {},
   "outputs": [
    {
     "data": {
      "image/png": "[encoded data removed]",
      "text/plain": [
       "<Figure size 1000x600 with 1 Axes>"
      ]
     },
     "metadata": {},
     "output_type": "display_data"
    }
   ],
   "source": [
    "# Plot the data\n",
    "plt.figure(figsize=(10, 6))\n",
    "plt.plot(cash_equivalents['Value'], marker='o')\n",
    "plt.title('Cash & Equivalents Over Time')\n",
    "plt.xlabel('Year')\n",
    "plt.ylabel('Value')\n",
    "plt.grid(True)\n",
    "plt.show()"
   ]
  },
  {
   "cell_type": "markdown",
   "id": "f9c50c71",
   "metadata": {},
   "source": [
    "**Statistical Summary:**\n",
    "\n",
    "The statistical summary provides basic insights such as the mean, standard deviation, minimum, and maximum values of the \"Cash & Equivalents\" metric over the years.\n",
    "This summary helps understand the central tendency and variability of the data."
   ]
  },
  {
   "cell_type": "markdown",
   "id": "fceaae42",
   "metadata": {},
   "source": [
    "**Line Plot with Moving Averages:**\n",
    "\n",
    "The line plot with moving averages highlights the overall trend in the \"Cash & Equivalents\" over time.\n",
    "\n",
    "The 30-month and 60-month moving averages smooth out short-term fluctuations and highlight longer-term trends.\n",
    "\n",
    "From the plot, you might observe periods of growth or decline, indicating changes in the company's financial management or external economic conditions."
   ]
  },
  {
   "cell_type": "code",
   "execution_count": 14,
   "id": "22e3153a",
   "metadata": {},
   "outputs": [
    {
     "data": {
      "image/png": "[encoded data removed]",
      "text/plain": [
       "<Figure size 640x480 with 4 Axes>"
      ]
     },
     "metadata": {},
     "output_type": "display_data"
    }
   ],
   "source": [
    "# Decompose the time series to check for seasonality and trend\n",
    "decomposition = seasonal_decompose(cash_equivalents['Value'], model='additive', period=1)\n",
    "decomposition.plot()\n",
    "plt.show()"
   ]
  },
  {
   "cell_type": "markdown",
   "id": "380bafbe",
   "metadata": {},
   "source": [
    "**Seasonal Decomposition:**\n",
    "\n",
    "The seasonal decomposition plot separates the time series into trend, seasonal, and residual components.\n",
    "This decomposition helps visualize underlying patterns and identify if seasonality is present in the data.\n",
    "Given the annual data, the decomposition should primarily highlight the trend and residual components."
   ]
  },
  {
   "cell_type": "code",
   "execution_count": 15,
   "id": "a0404e14",
   "metadata": {},
   "outputs": [
    {
     "name": "stdout",
     "output_type": "stream",
     "text": [
      "Requirement already satisfied: prophet in c:\\users\\hemch\\anaconda3\\lib\\site-packages (1.1.5)\n",
      "Requirement already satisfied: importlib-resources in c:\\users\\hemch\\anaconda3\\lib\\site-packages (from prophet) (6.4.0)\n",
      "Requirement already satisfied: pandas>=1.0.4 in c:\\users\\hemch\\anaconda3\\lib\\site-packages (from prophet) (1.4.4)\n",
      "Requirement already satisfied: numpy>=1.15.4 in c:\\users\\hemch\\anaconda3\\lib\\site-packages (from prophet) (1.23.5)\n",
      "Requirement already satisfied: tqdm>=4.36.1 in c:\\users\\hemch\\anaconda3\\lib\\site-packages (from prophet) (4.64.1)\n",
      "Requirement already satisfied: holidays>=0.25 in c:\\users\\hemch\\anaconda3\\lib\\site-packages (from prophet) (0.50)\n",
      "Requirement already satisfied: cmdstanpy>=1.0.4 in c:\\users\\hemch\\anaconda3\\lib\\site-packages (from prophet) (1.2.3)\n",
      "Requirement already satisfied: matplotlib>=2.0.0 in c:\\users\\hemch\\anaconda3\\lib\\site-packages (from prophet) (3.5.2)\n",
      "Requirement already satisfied: stanio<2.0.0,>=0.4.0 in c:\\users\\hemch\\anaconda3\\lib\\site-packages (from cmdstanpy>=1.0.4->prophet) (0.5.0)\n",
      "Requirement already satisfied: python-dateutil in c:\\users\\hemch\\anaconda3\\lib\\site-packages (from holidays>=0.25->prophet) (2.8.2)\n",
      "Requirement already satisfied: cycler>=0.10 in c:\\users\\hemch\\anaconda3\\lib\\site-packages (from matplotlib>=2.0.0->prophet) (0.11.0)\n",
      "Requirement already satisfied: packaging>=20.0 in c:\\users\\hemch\\anaconda3\\lib\\site-packages (from matplotlib>=2.0.0->prophet) (21.3)\n",
      "Requirement already satisfied: pillow>=6.2.0 in c:\\users\\hemch\\anaconda3\\lib\\site-packages (from matplotlib>=2.0.0->prophet) (9.2.0)\n",
      "Requirement already satisfied: kiwisolver>=1.0.1 in c:\\users\\hemch\\anaconda3\\lib\\site-packages (from matplotlib>=2.0.0->prophet) (1.4.2)\n",
      "Requirement already satisfied: fonttools>=4.22.0 in c:\\users\\hemch\\anaconda3\\lib\\site-packages (from matplotlib>=2.0.0->prophet) (4.25.0)\n",
      "Requirement already satisfied: pyparsing>=2.2.1 in c:\\users\\hemch\\anaconda3\\lib\\site-packages (from matplotlib>=2.0.0->prophet) (3.0.9)\n",
      "Requirement already satisfied: pytz>=2020.1 in c:\\users\\hemch\\anaconda3\\lib\\site-packages (from pandas>=1.0.4->prophet) (2022.1)\n",
      "Requirement already satisfied: colorama in c:\\users\\hemch\\anaconda3\\lib\\site-packages (from tqdm>=4.36.1->prophet) (0.4.5)\n",
      "Requirement already satisfied: zipp>=3.1.0 in c:\\users\\hemch\\anaconda3\\lib\\site-packages (from importlib-resources->prophet) (3.8.0)\n",
      "Requirement already satisfied: six>=1.5 in c:\\users\\hemch\\anaconda3\\lib\\site-packages (from python-dateutil->holidays>=0.25->prophet) (1.16.0)\n",
      "Note: you may need to restart the kernel to use updated packages.\n"
     ]
    }
   ],
   "source": [
    "pip install prophet"
   ]
  },
  {
   "cell_type": "code",
   "execution_count": 16,
   "id": "8179e7ca",
   "metadata": {},
   "outputs": [
    {
     "name": "stdout",
     "output_type": "stream",
     "text": [
      "Collecting pystan==2.19.1.1\n",
      "  Using cached pystan-2.19.1.1.tar.gz (16.2 MB)\n",
      "  Preparing metadata (setup.py): started\n",
      "  Preparing metadata (setup.py): finished with status 'done'\n",
      "Requirement already satisfied: Cython!=0.25.1,>=0.22 in c:\\users\\hemch\\anaconda3\\lib\\site-packages (from pystan==2.19.1.1) (0.29.32)\n",
      "Requirement already satisfied: numpy>=1.7 in c:\\users\\hemch\\anaconda3\\lib\\site-packages (from pystan==2.19.1.1) (1.23.5)\n",
      "Building wheels for collected packages: pystan\n",
      "  Building wheel for pystan (setup.py): started\n",
      "  Building wheel for pystan (setup.py): still running...\n",
      "  Building wheel for pystan (setup.py): still running...\n",
      "  Building wheel for pystan (setup.py): still running...\n",
      "  Building wheel for pystan (setup.py): finished with status 'error'\n",
      "  Running setup.py clean for pystan\n",
      "Failed to build pystan\n",
      "Installing collected packages: pystan\n",
      "  Running setup.py install for pystan: started\n",
      "  Running setup.py install for pystan: finished with status 'error'\n",
      "Note: you may need to restart the kernel to use updated packages.\n"
     ]
    },
    {
     "name": "stderr",
     "output_type": "stream",
     "text": [
      "IOPub data rate exceeded.\n",
      "The notebook server will temporarily stop sending output\n",
      "to the client in order to avoid crashing it.\n",
      "To change this limit, set the config variable\n",
      "`--NotebookApp.iopub_data_rate_limit`.\n",
      "\n",
      "Current values:\n",
      "NotebookApp.iopub_data_rate_limit=1000000.0 (bytes/sec)\n",
      "NotebookApp.rate_limit_window=3.0 (secs)\n",
      "\n"
     ]
    }
   ],
   "source": [
    "pip install pystan==2.19.1.1"
   ]
  },
  {
   "cell_type": "markdown",
   "id": "ee969d27",
   "metadata": {},
   "source": [
    "## STEP 4: Model Selection and Training"
   ]
  },
  {
   "cell_type": "code",
   "execution_count": 19,
   "id": "47d44455",
   "metadata": {},
   "outputs": [],
   "source": [
    "# Define the SARIMA model\n",
    "p = d = q = range(0, 2)\n",
    "pdq = [(x, y, z) for x in p for y in d for z in q]\n",
    "seasonal_pdq = [(x, y, z, 1) for x in p for y in d for z in q]"
   ]
  },
  {
   "cell_type": "code",
   "execution_count": 20,
   "id": "a6515ad2",
   "metadata": {},
   "outputs": [],
   "source": [
    "best_aic = np.inf\n",
    "best_pdq = None\n",
    "best_seasonal_pdq = None\n",
    "best_model = None"
   ]
  },
  {
   "cell_type": "code",
   "execution_count": 21,
   "id": "2c0aefbc",
   "metadata": {},
   "outputs": [
    {
     "name": "stdout",
     "output_type": "stream",
     "text": [
      "Best SARIMA model: None x None - AIC:inf\n"
     ]
    }
   ],
   "source": [
    "# Grid search to find the best parameters\n",
    "for param in pdq:\n",
    "    for param_seasonal in seasonal_pdq:\n",
    "        try:\n",
    "            temp_model = SARIMAX(cash_equivalents['Value'], order=param, seasonal_order=param_seasonal)\n",
    "            results = temp_model.fit()\n",
    "            if results.aic < best_aic:\n",
    "                best_aic = results.aic\n",
    "                best_pdq = param\n",
    "                best_seasonal_pdq = param_seasonal\n",
    "                best_model = results\n",
    "        except:\n",
    "            continue\n",
    "\n",
    "print(f'Best SARIMA model: {best_pdq} x {best_seasonal_pdq} - AIC:{best_aic}')"
   ]
  },
  {
   "cell_type": "markdown",
   "id": "03971b01",
   "metadata": {},
   "source": [
    "## Step 6: Forecasting"
   ]
  },
  {
   "cell_type": "code",
   "execution_count": 23,
   "id": "8fb9574c",
   "metadata": {},
   "outputs": [
    {
     "ename": "AttributeError",
     "evalue": "'NoneType' object has no attribute 'get_forecast'",
     "output_type": "error",
     "traceback": [
      "\u001b[1;31m---------------------------------------------------------------------------\u001b[0m",
      "\u001b[1;31mAttributeError\u001b[0m                            Traceback (most recent call last)",
      "\u001b[1;32m~\\AppData\\Local\\Temp\\ipykernel_11180\\2991031124.py\u001b[0m in \u001b[0;36m<module>\u001b[1;34m\u001b[0m\n\u001b[0;32m      1\u001b[0m \u001b[1;31m# Forecast the future values\u001b[0m\u001b[1;33m\u001b[0m\u001b[1;33m\u001b[0m\u001b[0m\n\u001b[0;32m      2\u001b[0m \u001b[0mforecast_steps\u001b[0m \u001b[1;33m=\u001b[0m \u001b[1;36m5\u001b[0m  \u001b[1;31m# Forecast for 5 years ahead\u001b[0m\u001b[1;33m\u001b[0m\u001b[1;33m\u001b[0m\u001b[0m\n\u001b[1;32m----> 3\u001b[1;33m \u001b[0mforecast\u001b[0m \u001b[1;33m=\u001b[0m \u001b[0mbest_model\u001b[0m\u001b[1;33m.\u001b[0m\u001b[0mget_forecast\u001b[0m\u001b[1;33m(\u001b[0m\u001b[0msteps\u001b[0m\u001b[1;33m=\u001b[0m\u001b[0mforecast_steps\u001b[0m\u001b[1;33m)\u001b[0m\u001b[1;33m\u001b[0m\u001b[1;33m\u001b[0m\u001b[0m\n\u001b[0m\u001b[0;32m      4\u001b[0m \u001b[0mforecast_index\u001b[0m \u001b[1;33m=\u001b[0m \u001b[0mpd\u001b[0m\u001b[1;33m.\u001b[0m\u001b[0mdate_range\u001b[0m\u001b[1;33m(\u001b[0m\u001b[0mstart\u001b[0m\u001b[1;33m=\u001b[0m\u001b[0mcash_equivalents\u001b[0m\u001b[1;33m.\u001b[0m\u001b[0mindex\u001b[0m\u001b[1;33m[\u001b[0m\u001b[1;33m-\u001b[0m\u001b[1;36m1\u001b[0m\u001b[1;33m]\u001b[0m\u001b[1;33m,\u001b[0m \u001b[0mperiods\u001b[0m\u001b[1;33m=\u001b[0m\u001b[0mforecast_steps\u001b[0m\u001b[1;33m+\u001b[0m\u001b[1;36m1\u001b[0m\u001b[1;33m,\u001b[0m \u001b[0mfreq\u001b[0m\u001b[1;33m=\u001b[0m\u001b[1;34m'AS'\u001b[0m\u001b[1;33m)\u001b[0m\u001b[1;33m[\u001b[0m\u001b[1;36m1\u001b[0m\u001b[1;33m:\u001b[0m\u001b[1;33m]\u001b[0m\u001b[1;33m\u001b[0m\u001b[1;33m\u001b[0m\u001b[0m\n\u001b[0;32m      5\u001b[0m \u001b[1;33m\u001b[0m\u001b[0m\n",
      "\u001b[1;31mAttributeError\u001b[0m: 'NoneType' object has no attribute 'get_forecast'"
     ]
    }
   ],
   "source": [
    "# Forecast the future values\n",
    "forecast_steps = 5  # Forecast for 5 years ahead\n",
    "forecast = best_model.get_forecast(steps=forecast_steps)\n",
    "forecast_index = pd.date_range(start=cash_equivalents.index[-1], periods=forecast_steps+1, freq='AS')[1:]\n",
    "\n",
    "# Get forecast mean and confidence intervals\n",
    "forecast_mean = forecast.predicted_mean\n",
    "forecast_ci = forecast.conf_int()\n",
    "\n",
    "# Plot the forecast\n",
    "plt.figure(figsize=(10, 6))\n",
    "plt.plot(cash_equivalents['Value'], label='Observed')\n",
    "plt.plot(forecast_index, forecast_mean, label='Forecast', color='red')\n",
    "plt.fill_between(forecast_index, forecast_ci.iloc[:, 0], forecast_ci.iloc[:, 1], color='pink', alpha=0.3)\n",
    "plt.title('SARIMA Forecast')\n",
    "plt.xlabel('Year')\n",
    "plt.ylabel('Value')\n",
    "plt.legend()\n",
    "plt.grid(True)\n",
    "plt.show()"
   ]
  },
  {
   "cell_type": "markdown",
   "id": "f4aa1555",
   "metadata": {},
   "source": [
    "## Step 7: Model Evaluation"
   ]
  },
  {
   "cell_type": "code",
   "execution_count": 24,
   "id": "46b1a87e",
   "metadata": {},
   "outputs": [
    {
     "ename": "NameError",
     "evalue": "name 'forecast_mean' is not defined",
     "output_type": "error",
     "traceback": [
      "\u001b[1;31m---------------------------------------------------------------------------\u001b[0m",
      "\u001b[1;31mNameError\u001b[0m                                 Traceback (most recent call last)",
      "\u001b[1;32m~\\AppData\\Local\\Temp\\ipykernel_11180\\241689659.py\u001b[0m in \u001b[0;36m<module>\u001b[1;34m\u001b[0m\n\u001b[0;32m      1\u001b[0m \u001b[1;31m# Calculate Mean Squared Error\u001b[0m\u001b[1;33m\u001b[0m\u001b[1;33m\u001b[0m\u001b[0m\n\u001b[0;32m      2\u001b[0m \u001b[0my_true\u001b[0m \u001b[1;33m=\u001b[0m \u001b[0mcash_equivalents\u001b[0m\u001b[1;33m[\u001b[0m\u001b[1;34m'Value'\u001b[0m\u001b[1;33m]\u001b[0m\u001b[1;33m[\u001b[0m\u001b[1;33m-\u001b[0m\u001b[0mforecast_steps\u001b[0m\u001b[1;33m:\u001b[0m\u001b[1;33m]\u001b[0m  \u001b[1;31m# True values\u001b[0m\u001b[1;33m\u001b[0m\u001b[1;33m\u001b[0m\u001b[0m\n\u001b[1;32m----> 3\u001b[1;33m \u001b[0my_pred\u001b[0m \u001b[1;33m=\u001b[0m \u001b[0mforecast_mean\u001b[0m\u001b[1;33m[\u001b[0m\u001b[1;33m:\u001b[0m\u001b[0mforecast_steps\u001b[0m\u001b[1;33m]\u001b[0m  \u001b[1;31m# Predicted values\u001b[0m\u001b[1;33m\u001b[0m\u001b[1;33m\u001b[0m\u001b[0m\n\u001b[0m\u001b[0;32m      4\u001b[0m \u001b[0mmse\u001b[0m \u001b[1;33m=\u001b[0m \u001b[0mmean_squared_error\u001b[0m\u001b[1;33m(\u001b[0m\u001b[0my_true\u001b[0m\u001b[1;33m,\u001b[0m \u001b[0my_pred\u001b[0m\u001b[1;33m)\u001b[0m\u001b[1;33m\u001b[0m\u001b[1;33m\u001b[0m\u001b[0m\n\u001b[0;32m      5\u001b[0m \u001b[0mprint\u001b[0m\u001b[1;33m(\u001b[0m\u001b[1;34mf'Mean Squared Error: {mse}'\u001b[0m\u001b[1;33m)\u001b[0m\u001b[1;33m\u001b[0m\u001b[1;33m\u001b[0m\u001b[0m\n",
      "\u001b[1;31mNameError\u001b[0m: name 'forecast_mean' is not defined"
     ]
    }
   ],
   "source": [
    "# Calculate Mean Squared Error\n",
    "y_true = cash_equivalents['Value'][-forecast_steps:]  # True values\n",
    "y_pred = forecast_mean[:forecast_steps]  # Predicted values\n",
    "mse = mean_squared_error(y_true, y_pred)\n",
    "print(f'Mean Squared Error: {mse}')"
   ]
  },
  {
   "cell_type": "markdown",
   "id": "85363e06",
   "metadata": {},
   "source": [
    "## Insights and Analysis\n",
    "\n",
    "**Trend and Seasonality:** The decomposition of the time series will show if there are any underlying trends or seasonal components.\n",
    "\n",
    "**Model Performance:** By comparing the AIC values during the grid search, we ensure that we select the best model.\n",
    "\n",
    "**Forecast Accuracy:** The forecast plot and MSE provide insights into the model's predictive power."
   ]
  },
  {
   "cell_type": "code",
   "execution_count": null,
   "id": "b86c9302",
   "metadata": {},
   "outputs": [],
   "source": []
  }
 ],
 "metadata": {
  "kernelspec": {
   "display_name": "Python 3 (ipykernel)",
   "language": "python",
   "name": "python3"
  },
  "language_info": {
   "codemirror_mode": {
    "name": "ipython",
    "version": 3
   },
   "file_extension": ".py",
   "mimetype": "text/x-python",
   "name": "python",
   "nbconvert_exporter": "python",
   "pygments_lexer": "ipython3",
   "version": "3.9.13"
  }
 },
 "nbformat": 4,
 "nbformat_minor": 5
}
